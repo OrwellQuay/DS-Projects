{
 "cells": [
  {
   "cell_type": "markdown",
   "metadata": {},
   "source": [
    "# Classification of Ads\n",
    "Purpose of this project is to classify Advertisements into sub categories (Accounting Finance jobs, Lawyer jobs, Apartment for Sale etc) based on the Ad description (text). This is an NLP use case. Dataset is ingested, pre-processed for NLP and further trained on classification models. \n",
    "\n",
    "#### Model Evaluation:\n",
    "In terms of evaluation metric, \"f1-score\" is used as the metric as this being a harmoized view of Recall & Precision, is suitable for this multi-class classification. This is because there is no special significance for identification a particular class (unlike use cases such as Fraud detection or Disease detection). "
   ]
  },
  {
   "cell_type": "code",
   "execution_count": 22,
   "metadata": {
    "collapsed": true
   },
   "outputs": [],
   "source": [
    "import pandas as pd\n",
    "import numpy as np\n",
    "\n",
    "from sklearn.model_selection import train_test_split\n",
    "from sklearn.metrics import accuracy_score\n",
    "\n",
    "from matplotlib import pyplot as plt\n",
    "import seaborn as sns\n",
    "\n",
    "from sklearn.feature_extraction.text import CountVectorizer\n",
    "from sklearn.feature_extraction.text import TfidfVectorizer, CountVectorizer\n",
    "from nltk.corpus import stopwords\n",
    "from textblob import TextBlob\n",
    "from textblob import Word\n",
    "from nltk.util import ngrams\n",
    "import nltk, re, string, collections\n",
    "\n",
    "from sklearn.naive_bayes import MultinomialNB\n",
    "from sklearn.naive_bayes import BernoulliNB\n",
    "from sklearn.multiclass import OneVsRestClassifier\n",
    "from sklearn.svm import LinearSVC\n",
    "from sklearn.pipeline import Pipeline\n",
    "from sklearn.feature_extraction.text import CountVectorizer, TfidfVectorizer ,TfidfTransformer\n",
    "from sklearn.model_selection import train_test_split,GridSearchCV\n",
    "from sklearn.metrics import classification_report,accuracy_score,confusion_matrix\n",
    "from sklearn.ensemble import RandomForestClassifier\n",
    "from sklearn.model_selection import RandomizedSearchCV"
   ]
  },
  {
   "cell_type": "code",
   "execution_count": 2,
   "metadata": {
    "collapsed": true
   },
   "outputs": [],
   "source": [
    "data = pd.read_csv(r\"C:\\Users\\HP\\Documents\\DataScience\\Python Scripts\\Ads Classification\\ads_en_us.csv\")"
   ]
  },
  {
   "cell_type": "markdown",
   "metadata": {},
   "source": [
    "## A look at the data\n",
    "Initial analyis of data is done. Dataset has about 97k records. There are some duplicates in 'value' i.e duplicate documents. \n",
    "\n",
    "#### Class Imbalance\n",
    "SubcatId distribution is not balanced - some sub-categories (eg subcatId 27) have higher representation than others. Hence there is 'class imbalance' in the dataset. But class imbalance is not extereme (say for example as in the case of Credit Card Fraud dataset). \n",
    "\n",
    "In this version of the mini-project, no special handling is done for this class imbalance issue. In the next version of this mini-project, tweaks to handle this will be shown. \n"
   ]
  },
  {
   "cell_type": "code",
   "execution_count": 3,
   "metadata": {},
   "outputs": [
    {
     "data": {
      "text/html": [
       "<div>\n",
       "<style>\n",
       "    .dataframe thead tr:only-child th {\n",
       "        text-align: right;\n",
       "    }\n",
       "\n",
       "    .dataframe thead th {\n",
       "        text-align: left;\n",
       "    }\n",
       "\n",
       "    .dataframe tbody tr th {\n",
       "        vertical-align: top;\n",
       "    }\n",
       "</style>\n",
       "<table border=\"1\" class=\"dataframe\">\n",
       "  <thead>\n",
       "    <tr style=\"text-align: right;\">\n",
       "      <th></th>\n",
       "      <th>Unnamed: 0</th>\n",
       "      <th>catid</th>\n",
       "      <th>id</th>\n",
       "      <th>subcatid</th>\n",
       "      <th>value</th>\n",
       "    </tr>\n",
       "  </thead>\n",
       "  <tbody>\n",
       "    <tr>\n",
       "      <th>0</th>\n",
       "      <td>0</td>\n",
       "      <td>2</td>\n",
       "      <td>45493</td>\n",
       "      <td>27</td>\n",
       "      <td>Overview \\r\\n \\r\\nWhy AFFIRMA Rehabilitation? ...</td>\n",
       "    </tr>\n",
       "    <tr>\n",
       "      <th>1</th>\n",
       "      <td>1</td>\n",
       "      <td>2</td>\n",
       "      <td>45499</td>\n",
       "      <td>27</td>\n",
       "      <td>Overview \\r\\n \\r\\nWhy AFFIRMA Rehabilitation? ...</td>\n",
       "    </tr>\n",
       "    <tr>\n",
       "      <th>2</th>\n",
       "      <td>2</td>\n",
       "      <td>2</td>\n",
       "      <td>45522</td>\n",
       "      <td>27</td>\n",
       "      <td>Overview:\\r\\n\\r\\nUnder general supervision by ...</td>\n",
       "    </tr>\n",
       "    <tr>\n",
       "      <th>3</th>\n",
       "      <td>3</td>\n",
       "      <td>2</td>\n",
       "      <td>45543</td>\n",
       "      <td>134</td>\n",
       "      <td>Be your own boss working under a Strong Brand ...</td>\n",
       "    </tr>\n",
       "    <tr>\n",
       "      <th>4</th>\n",
       "      <td>4</td>\n",
       "      <td>2</td>\n",
       "      <td>45545</td>\n",
       "      <td>134</td>\n",
       "      <td>Be your own boss working under a Strong Brand ...</td>\n",
       "    </tr>\n",
       "  </tbody>\n",
       "</table>\n",
       "</div>"
      ],
      "text/plain": [
       "   Unnamed: 0  catid     id  subcatid  \\\n",
       "0           0      2  45493        27   \n",
       "1           1      2  45499        27   \n",
       "2           2      2  45522        27   \n",
       "3           3      2  45543       134   \n",
       "4           4      2  45545       134   \n",
       "\n",
       "                                               value  \n",
       "0  Overview \\r\\n \\r\\nWhy AFFIRMA Rehabilitation? ...  \n",
       "1  Overview \\r\\n \\r\\nWhy AFFIRMA Rehabilitation? ...  \n",
       "2  Overview:\\r\\n\\r\\nUnder general supervision by ...  \n",
       "3  Be your own boss working under a Strong Brand ...  \n",
       "4  Be your own boss working under a Strong Brand ...  "
      ]
     },
     "execution_count": 3,
     "metadata": {},
     "output_type": "execute_result"
    }
   ],
   "source": [
    "data.head()"
   ]
  },
  {
   "cell_type": "code",
   "execution_count": 4,
   "metadata": {},
   "outputs": [
    {
     "data": {
      "image/png": "[encoded data removed]",
      "text/plain": [
       "<matplotlib.figure.Figure at 0xcadee80>"
      ]
     },
     "metadata": {},
     "output_type": "display_data"
    }
   ],
   "source": [
    "ax = sns.countplot(x=\"subcatid\", data=data)\n",
    "plt.show()"
   ]
  },
  {
   "cell_type": "code",
   "execution_count": 6,
   "metadata": {},
   "outputs": [
    {
     "data": {
      "image/png": "[encoded data removed]",
      "text/plain": [
       "<matplotlib.figure.Figure at 0xcebec88>"
      ]
     },
     "metadata": {},
     "output_type": "display_data"
    }
   ],
   "source": [
    "ax = sns.countplot(x=\"catid\", data=data)\n",
    "plt.show()"
   ]
  },
  {
   "cell_type": "code",
   "execution_count": 5,
   "metadata": {},
   "outputs": [
    {
     "data": {
      "text/plain": [
       "8"
      ]
     },
     "execution_count": 5,
     "metadata": {},
     "output_type": "execute_result"
    }
   ],
   "source": [
    "data_dup = data.groupby(data.value).size().reset_index().rename(columns={0:'count'})\n",
    "data_dup.sort_values('count', ascending=False, inplace=True)\n",
    "len(data_dup.loc[data_dup['count'] > 500, :])"
   ]
  },
  {
   "cell_type": "code",
   "execution_count": 10,
   "metadata": {
    "collapsed": true
   },
   "outputs": [],
   "source": [
    "data_s1 = data.sample(frac=.2)"
   ]
  },
  {
   "cell_type": "code",
   "execution_count": 11,
   "metadata": {},
   "outputs": [
    {
     "data": {
      "text/plain": [
       "(19520, 5)"
      ]
     },
     "execution_count": 11,
     "metadata": {},
     "output_type": "execute_result"
    }
   ],
   "source": [
    "data_s1.shape"
   ]
  },
  {
   "cell_type": "code",
   "execution_count": 13,
   "metadata": {},
   "outputs": [
    {
     "data": {
      "text/plain": [
       "False"
      ]
     },
     "execution_count": 13,
     "metadata": {},
     "output_type": "execute_result"
    }
   ],
   "source": [
    "data_s1.isnull().any().any()"
   ]
  },
  {
   "cell_type": "markdown",
   "metadata": {},
   "source": [
    "## Pre-Processing\n",
    "Remove Stopwords & punctuation, Convert to lower case, Spell correct and Lemmatize. Pre-processing commands used here have lesser code-print. Textblob has been used for lemmatization. nltk can as well be used.\n",
    "Also analyzed are common and rare words. Certain synoyms are replaced basis this analysis.\n",
    "Certain pre-processing tasks have been executed on a sample of this dataset for practicality. Full dataset is processed in AWS version. But models have been executed on full dataset."
   ]
  },
  {
   "cell_type": "code",
   "execution_count": 14,
   "metadata": {
    "collapsed": true
   },
   "outputs": [],
   "source": [
    "#Pre-processing with full sample. \n",
    "stop = stopwords.words('english')\n",
    "stop.append('The')\n",
    "stop.append('This')\n",
    "data_s1['value'] = data_s1['value'].apply(lambda x: \" \".join(x for x in x.split() if x not in stop))\n",
    "data_s1['value'] = data_s1['value'].apply(lambda x: \" \".join(x.lower() for x in x.split()))\n",
    "data_s1['value'] = data_s1['value'].str.replace('[^\\w\\s]','')\n",
    "data_s1['value'] = data_s1['value'].apply(lambda x: \" \".join([Word(word).lemmatize() for word in x.split()]))"
   ]
  },
  {
   "cell_type": "markdown",
   "metadata": {},
   "source": [
    "#### Analyze Common and rare words"
   ]
  },
  {
   "cell_type": "code",
   "execution_count": 15,
   "metadata": {},
   "outputs": [
    {
     "data": {
      "text/plain": [
       "team              43439\n",
       "work              40203\n",
       "experience        34605\n",
       "service           32453\n",
       "customer          28457\n",
       "job               25936\n",
       "care              23427\n",
       "restaurant        22931\n",
       "member            22839\n",
       "shift             22591\n",
       "position          22334\n",
       "management        22147\n",
       "company           21544\n",
       "sale              19827\n",
       "year              19518\n",
       "skill             18544\n",
       "we                18474\n",
       "opportunity       17819\n",
       "system            16674\n",
       "business          16246\n",
       "ability           15933\n",
       "operation         15706\n",
       "required          15554\n",
       "patient           15494\n",
       "support           15445\n",
       "guest             15395\n",
       "including         14267\n",
       "program           13881\n",
       "must              13868\n",
       "responsibility    13857\n",
       "information       13379\n",
       "policy            13239\n",
       "requirement       13114\n",
       "procedure         12966\n",
       "product           12667\n",
       "a                 12487\n",
       "professional      12408\n",
       "training          12291\n",
       "new               12060\n",
       "need              11828\n",
       "time              11702\n",
       "manager           11563\n",
       "assigned          11552\n",
       "home              11432\n",
       "client            11376\n",
       "ensure            11351\n",
       "td                11262\n",
       "development       11258\n",
       "state             11244\n",
       "working           11149\n",
       "dtype: int64"
      ]
     },
     "execution_count": 15,
     "metadata": {},
     "output_type": "execute_result"
    }
   ],
   "source": [
    "freq_1gram = pd.Series(' '.join(data_s1['value']).split()).value_counts()[:50] \n",
    "freq_1gram"
   ]
  },
  {
   "cell_type": "markdown",
   "metadata": {},
   "source": [
    "#### Replace synonyms, similar words (contextual)\n",
    "For this sample, Customer (28457 occurances) and Client (11376 occurances) are similar, hence 'Customer' is replaced with with 'Client'. "
   ]
  },
  {
   "cell_type": "code",
   "execution_count": 16,
   "metadata": {},
   "outputs": [
    {
     "data": {
      "text/plain": [
       "team              43439\n",
       "work              40203\n",
       "client            39833\n",
       "experience        34605\n",
       "service           32453\n",
       "job               25936\n",
       "care              23427\n",
       "restaurant        22931\n",
       "member            22839\n",
       "shift             22591\n",
       "position          22334\n",
       "management        22147\n",
       "company           21544\n",
       "sale              19827\n",
       "year              19518\n",
       "skill             18544\n",
       "we                18474\n",
       "opportunity       17819\n",
       "system            16674\n",
       "business          16246\n",
       "ability           15933\n",
       "operation         15706\n",
       "required          15554\n",
       "patient           15494\n",
       "support           15445\n",
       "guest             15395\n",
       "including         14267\n",
       "program           13881\n",
       "must              13868\n",
       "responsibility    13857\n",
       "information       13379\n",
       "policy            13239\n",
       "requirement       13114\n",
       "procedure         12966\n",
       "product           12667\n",
       "a                 12487\n",
       "professional      12408\n",
       "training          12291\n",
       "new               12060\n",
       "need              11828\n",
       "time              11702\n",
       "manager           11563\n",
       "assigned          11552\n",
       "home              11432\n",
       "ensure            11351\n",
       "td                11262\n",
       "development       11258\n",
       "state             11244\n",
       "working           11149\n",
       "project           11069\n",
       "dtype: int64"
      ]
     },
     "execution_count": 16,
     "metadata": {},
     "output_type": "execute_result"
    }
   ],
   "source": [
    "data_s2 = data_s1\n",
    "d={'customer':'client'}\n",
    "d2 = {r'(\\b){}(\\b)'.format(k):r'\\1{}\\2'.format(v) for k,v in d.items()}\n",
    "data_s2['value'] = data_s2['value'].replace(d2, regex=True)\n",
    "freq_2gram = pd.Series(' '.join(data_s2['value']).split()).value_counts()[:50] \n",
    "freq_2gram"
   ]
  },
  {
   "cell_type": "markdown",
   "metadata": {},
   "source": [
    "#### Analyze top bigrams"
   ]
  },
  {
   "cell_type": "code",
   "execution_count": 17,
   "metadata": {
    "collapsed": true
   },
   "outputs": [],
   "source": [
    "word_vectorizer = CountVectorizer(ngram_range=(1,2), analyzer='word')\n",
    "sparse_matrix = word_vectorizer.fit_transform(data_s2['value'])\n",
    "frequencies = sum(sparse_matrix).data\n",
    "#frequencies = sum(sparse_matrix).toarray()[0]\n",
    "bigr_freq =pd.DataFrame(frequencies, index=word_vectorizer.get_feature_names(), columns=['frequency'])"
   ]
  },
  {
   "cell_type": "code",
   "execution_count": 18,
   "metadata": {},
   "outputs": [
    {
     "data": {
      "text/html": [
       "<div>\n",
       "<style>\n",
       "    .dataframe thead tr:only-child th {\n",
       "        text-align: right;\n",
       "    }\n",
       "\n",
       "    .dataframe thead th {\n",
       "        text-align: left;\n",
       "    }\n",
       "\n",
       "    .dataframe tbody tr th {\n",
       "        vertical-align: top;\n",
       "    }\n",
       "</style>\n",
       "<table border=\"1\" class=\"dataframe\">\n",
       "  <thead>\n",
       "    <tr style=\"text-align: right;\">\n",
       "      <th></th>\n",
       "      <th>frequency</th>\n",
       "    </tr>\n",
       "  </thead>\n",
       "  <tbody>\n",
       "    <tr>\n",
       "      <th>largest client</th>\n",
       "      <td>43439</td>\n",
       "    </tr>\n",
       "    <tr>\n",
       "      <th>latest hiv</th>\n",
       "      <td>40203</td>\n",
       "    </tr>\n",
       "    <tr>\n",
       "      <th>latest iteration</th>\n",
       "      <td>39833</td>\n",
       "    </tr>\n",
       "    <tr>\n",
       "      <th>large organization</th>\n",
       "      <td>34605</td>\n",
       "    </tr>\n",
       "    <tr>\n",
       "      <th>largest brand</th>\n",
       "      <td>32453</td>\n",
       "    </tr>\n",
       "    <tr>\n",
       "      <th>largest division</th>\n",
       "      <td>25936</td>\n",
       "    </tr>\n",
       "    <tr>\n",
       "      <th>language 4neuro</th>\n",
       "      <td>23427</td>\n",
       "    </tr>\n",
       "    <tr>\n",
       "      <th>land office</th>\n",
       "      <td>22931</td>\n",
       "    </tr>\n",
       "    <tr>\n",
       "      <th>launched 2009</th>\n",
       "      <td>22839</td>\n",
       "    </tr>\n",
       "    <tr>\n",
       "      <th>largesized enterpriseexcellent</th>\n",
       "      <td>22591</td>\n",
       "    </tr>\n",
       "    <tr>\n",
       "      <th>largest electronics</th>\n",
       "      <td>22334</td>\n",
       "    </tr>\n",
       "    <tr>\n",
       "      <th>later use</th>\n",
       "      <td>22147</td>\n",
       "    </tr>\n",
       "    <tr>\n",
       "      <th>largesmall</th>\n",
       "      <td>21544</td>\n",
       "    </tr>\n",
       "    <tr>\n",
       "      <th>law applicant</th>\n",
       "      <td>19827</td>\n",
       "    </tr>\n",
       "    <tr>\n",
       "      <th>large requires</th>\n",
       "      <td>19518</td>\n",
       "    </tr>\n",
       "    <tr>\n",
       "      <th>large our</th>\n",
       "      <td>18544</td>\n",
       "    </tr>\n",
       "    <tr>\n",
       "      <th>larger problem</th>\n",
       "      <td>18474</td>\n",
       "    </tr>\n",
       "    <tr>\n",
       "      <th>largescale datasets</th>\n",
       "      <td>17819</td>\n",
       "    </tr>\n",
       "    <tr>\n",
       "      <th>launch many</th>\n",
       "      <td>17350</td>\n",
       "    </tr>\n",
       "    <tr>\n",
       "      <th>latest cloudbased</th>\n",
       "      <td>16674</td>\n",
       "    </tr>\n",
       "    <tr>\n",
       "      <th>language additi</th>\n",
       "      <td>16246</td>\n",
       "    </tr>\n",
       "    <tr>\n",
       "      <th>large proposals510</th>\n",
       "      <td>15933</td>\n",
       "    </tr>\n",
       "    <tr>\n",
       "      <th>latest dataentertainment</th>\n",
       "      <td>15706</td>\n",
       "    </tr>\n",
       "    <tr>\n",
       "      <th>language advanced</th>\n",
       "      <td>15554</td>\n",
       "    </tr>\n",
       "    <tr>\n",
       "      <th>language bespoke</th>\n",
       "      <td>15494</td>\n",
       "    </tr>\n",
       "    <tr>\n",
       "      <th>largest city</th>\n",
       "      <td>15445</td>\n",
       "    </tr>\n",
       "    <tr>\n",
       "      <th>larger towboat</th>\n",
       "      <td>15395</td>\n",
       "    </tr>\n",
       "    <tr>\n",
       "      <th>largescale management</th>\n",
       "      <td>14267</td>\n",
       "    </tr>\n",
       "    <tr>\n",
       "      <th>lantern</th>\n",
       "      <td>13881</td>\n",
       "    </tr>\n",
       "    <tr>\n",
       "      <th>latest interaction</th>\n",
       "      <td>13868</td>\n",
       "    </tr>\n",
       "    <tr>\n",
       "      <th>...</th>\n",
       "      <td>...</td>\n",
       "    </tr>\n",
       "    <tr>\n",
       "      <th>enhance technical</th>\n",
       "      <td>1</td>\n",
       "    </tr>\n",
       "    <tr>\n",
       "      <th>enhance trading</th>\n",
       "      <td>1</td>\n",
       "    </tr>\n",
       "    <tr>\n",
       "      <th>enhance working</th>\n",
       "      <td>1</td>\n",
       "    </tr>\n",
       "    <tr>\n",
       "      <th>enhance yield</th>\n",
       "      <td>1</td>\n",
       "    </tr>\n",
       "    <tr>\n",
       "      <th>enhance yieldsdrive</th>\n",
       "      <td>1</td>\n",
       "    </tr>\n",
       "    <tr>\n",
       "      <th>enhanced</th>\n",
       "      <td>1</td>\n",
       "    </tr>\n",
       "    <tr>\n",
       "      <th>enhance skill</th>\n",
       "      <td>1</td>\n",
       "    </tr>\n",
       "    <tr>\n",
       "      <th>enhance service</th>\n",
       "      <td>1</td>\n",
       "    </tr>\n",
       "    <tr>\n",
       "      <th>enhance seo</th>\n",
       "      <td>1</td>\n",
       "    </tr>\n",
       "    <tr>\n",
       "      <th>enhance selection</th>\n",
       "      <td>1</td>\n",
       "    </tr>\n",
       "    <tr>\n",
       "      <th>enhance professional</th>\n",
       "      <td>1</td>\n",
       "    </tr>\n",
       "    <tr>\n",
       "      <th>enhance profitability</th>\n",
       "      <td>1</td>\n",
       "    </tr>\n",
       "    <tr>\n",
       "      <th>enhance program</th>\n",
       "      <td>1</td>\n",
       "    </tr>\n",
       "    <tr>\n",
       "      <th>enhance protect</th>\n",
       "      <td>1</td>\n",
       "    </tr>\n",
       "    <tr>\n",
       "      <th>enhance public</th>\n",
       "      <td>1</td>\n",
       "    </tr>\n",
       "    <tr>\n",
       "      <th>enhance quality</th>\n",
       "      <td>1</td>\n",
       "    </tr>\n",
       "    <tr>\n",
       "      <th>enhance rapidly</th>\n",
       "      <td>1</td>\n",
       "    </tr>\n",
       "    <tr>\n",
       "      <th>enhance rehabilitation</th>\n",
       "      <td>1</td>\n",
       "    </tr>\n",
       "    <tr>\n",
       "      <th>enhance relationship</th>\n",
       "      <td>1</td>\n",
       "    </tr>\n",
       "    <tr>\n",
       "      <th>enhance reporting</th>\n",
       "      <td>1</td>\n",
       "    </tr>\n",
       "    <tr>\n",
       "      <th>enhance reputation</th>\n",
       "      <td>1</td>\n",
       "    </tr>\n",
       "    <tr>\n",
       "      <th>enhance resident</th>\n",
       "      <td>1</td>\n",
       "    </tr>\n",
       "    <tr>\n",
       "      <th>enhance restaurant</th>\n",
       "      <td>1</td>\n",
       "    </tr>\n",
       "    <tr>\n",
       "      <th>enhance retention</th>\n",
       "      <td>1</td>\n",
       "    </tr>\n",
       "    <tr>\n",
       "      <th>enhance ruby</th>\n",
       "      <td>1</td>\n",
       "    </tr>\n",
       "    <tr>\n",
       "      <th>enhance safety</th>\n",
       "      <td>1</td>\n",
       "    </tr>\n",
       "    <tr>\n",
       "      <th>enhance salesbusiness</th>\n",
       "      <td>1</td>\n",
       "    </tr>\n",
       "    <tr>\n",
       "      <th>enhance schedule</th>\n",
       "      <td>1</td>\n",
       "    </tr>\n",
       "    <tr>\n",
       "      <th>enhance security</th>\n",
       "      <td>1</td>\n",
       "    </tr>\n",
       "    <tr>\n",
       "      <th>ïmicrosoft project</th>\n",
       "      <td>1</td>\n",
       "    </tr>\n",
       "  </tbody>\n",
       "</table>\n",
       "<p>1107282 rows × 1 columns</p>\n",
       "</div>"
      ],
      "text/plain": [
       "                                frequency\n",
       "largest client                      43439\n",
       "latest hiv                          40203\n",
       "latest iteration                    39833\n",
       "large organization                  34605\n",
       "largest brand                       32453\n",
       "largest division                    25936\n",
       "language 4neuro                     23427\n",
       "land office                         22931\n",
       "launched 2009                       22839\n",
       "largesized enterpriseexcellent      22591\n",
       "largest electronics                 22334\n",
       "later use                           22147\n",
       "largesmall                          21544\n",
       "law applicant                       19827\n",
       "large requires                      19518\n",
       "large our                           18544\n",
       "larger problem                      18474\n",
       "largescale datasets                 17819\n",
       "launch many                         17350\n",
       "latest cloudbased                   16674\n",
       "language additi                     16246\n",
       "large proposals510                  15933\n",
       "latest dataentertainment            15706\n",
       "language advanced                   15554\n",
       "language bespoke                    15494\n",
       "largest city                        15445\n",
       "larger towboat                      15395\n",
       "largescale management               14267\n",
       "lantern                             13881\n",
       "latest interaction                  13868\n",
       "...                                   ...\n",
       "enhance technical                       1\n",
       "enhance trading                         1\n",
       "enhance working                         1\n",
       "enhance yield                           1\n",
       "enhance yieldsdrive                     1\n",
       "enhanced                                1\n",
       "enhance skill                           1\n",
       "enhance service                         1\n",
       "enhance seo                             1\n",
       "enhance selection                       1\n",
       "enhance professional                    1\n",
       "enhance profitability                   1\n",
       "enhance program                         1\n",
       "enhance protect                         1\n",
       "enhance public                          1\n",
       "enhance quality                         1\n",
       "enhance rapidly                         1\n",
       "enhance rehabilitation                  1\n",
       "enhance relationship                    1\n",
       "enhance reporting                       1\n",
       "enhance reputation                      1\n",
       "enhance resident                        1\n",
       "enhance restaurant                      1\n",
       "enhance retention                       1\n",
       "enhance ruby                            1\n",
       "enhance safety                          1\n",
       "enhance salesbusiness                   1\n",
       "enhance schedule                        1\n",
       "enhance security                        1\n",
       "ïmicrosoft project                      1\n",
       "\n",
       "[1107282 rows x 1 columns]"
      ]
     },
     "execution_count": 18,
     "metadata": {},
     "output_type": "execute_result"
    }
   ],
   "source": [
    "bigr_freq.sort_values(by=['frequency'], ascending=False)"
   ]
  },
  {
   "cell_type": "markdown",
   "metadata": {},
   "source": [
    "## Model \n",
    "TFIDF vector is used as feature set. Gridsearccv is done on Naivebayes (Multinomial & Bernoulli) and RandomForest. Accuracy and Classification Report is generated. Accuracy score of 82 & f1-score of 78 is obtained in RandomForest. Coresponding values for Naivebayes are slightly less. This is interesting as RF is generally not expected to do well in sparse high dimensional text data!. \n",
    "\n",
    "### Class Imbalance\n",
    "Also the f1-scores of some classes very low - this is due to 'class imbalance' in the dataset. In this version of the mini-project, no special handling is done for this class imbalance issue. In the next version of this mini-project, tweaks to handle this will be shown. \n"
   ]
  },
  {
   "cell_type": "markdown",
   "metadata": {},
   "source": [
    "#### Naivebayes - Standalone Multinomial & OneVsRest with default Alpha"
   ]
  },
  {
   "cell_type": "code",
   "execution_count": 19,
   "metadata": {
    "collapsed": true
   },
   "outputs": [],
   "source": [
    "X = data_s2.value\n",
    "y = data_s2.subcatid\n",
    "X_train, X_test, y_train, y_test = train_test_split(X, y, test_size=0.3, random_state = 5)"
   ]
  },
  {
   "cell_type": "code",
   "execution_count": 37,
   "metadata": {},
   "outputs": [
    {
     "name": "stdout",
     "output_type": "stream",
     "text": [
      "accuracy 0.63120040652\n"
     ]
    }
   ],
   "source": [
    "nb = Pipeline([('vect', CountVectorizer()),\n",
    "               ('tfidf', TfidfTransformer()),\n",
    "               ('clf', MultinomialNB()),\n",
    "              ])\n",
    "\n",
    "nb.fit(X_train, y_train)\n",
    "\n",
    "y1_pred = nb.predict(X_test)\n",
    "\n",
    "print('accuracy %s' % accuracy_score(y1_pred, y_test))"
   ]
  },
  {
   "cell_type": "code",
   "execution_count": 25,
   "metadata": {},
   "outputs": [
    {
     "data": {
      "text/plain": [
       "array([ 31,  34,  31, 122,  34,  19,  33,  34,  27,  31], dtype=int64)"
      ]
     },
     "execution_count": 25,
     "metadata": {},
     "output_type": "execute_result"
    }
   ],
   "source": [
    "y1_pred[:10]"
   ]
  },
  {
   "cell_type": "code",
   "execution_count": 22,
   "metadata": {},
   "outputs": [
    {
     "name": "stdout",
     "output_type": "stream",
     "text": [
      "accuracy 0.647930266192\n"
     ]
    }
   ],
   "source": [
    "nb = Pipeline([('vect', CountVectorizer()),\n",
    "               ('tfidf', TfidfTransformer()),\n",
    "               ('clf', OneVsRestClassifier(MultinomialNB())),\n",
    "              ])\n",
    "\n",
    "nb.fit(X_train, y_train)\n",
    "\n",
    "y_pred = nb.predict(X_test)\n",
    "\n",
    "print('accuracy %s' % accuracy_score(y_pred, y_test))"
   ]
  },
  {
   "cell_type": "markdown",
   "metadata": {},
   "source": [
    "####  MultinomialNB and BernoulliNB in GridsearchCV with alpha grid "
   ]
  },
  {
   "cell_type": "code",
   "execution_count": 48,
   "metadata": {
    "collapsed": true
   },
   "outputs": [],
   "source": [
    "nb = Pipeline([('vect', CountVectorizer()),\n",
    "               ('tfidf', TfidfTransformer()),\n",
    "               ('clf', MultinomialNB()),\n",
    "              ])\n",
    "random_grid = {\n",
    "               'clf__alpha': (1, 0.1, 0.01, 0.001, 0.0001, 0.00001) \n",
    "              }\n",
    "print(random_grid)\n",
    "gs_clf_MulNB = GridSearchCV(nb, random_grid,cv=2)\n",
    "gs_clf_MulNB.fit(X_train, y_train)\n",
    "gs_clf_MulNB.best_params_\n",
    "%%time\n",
    "model = gs_clf_MulNB.best_estimator_\n",
    "y_pred = model.predict(X_test)\n",
    "print('accuracy %s' % accuracy_score(y_pred, y_test))"
   ]
  },
  {
   "cell_type": "code",
   "execution_count": 20,
   "metadata": {},
   "outputs": [
    {
     "name": "stdout",
     "output_type": "stream",
     "text": [
      "{'clf__alpha': (10, 1, 0.01, 0.001, 0.0001, 1e-05)}"
     ]
    },
    {
     "name": "stderr",
     "output_type": "stream",
     "text": [
      "C:\\Users\\HP\\Anaconda3\\lib\\site-packages\\sklearn\\model_selection\\_split.py:605: Warning: The least populated class in y has only 1 members, which is too few. The minimum number of members in any class cannot be less than n_splits=2.\n",
      "  % (min_groups, self.n_splits)), Warning)\n"
     ]
    },
    {
     "name": "stdout",
     "output_type": "stream",
     "text": [
      "\n",
      "accuracy 0.760245901639\n"
     ]
    }
   ],
   "source": [
    "nb = Pipeline([('vect', CountVectorizer()),\n",
    "               ('tfidf', TfidfTransformer()),\n",
    "               ('clf', BernoulliNB()),\n",
    "              ])\n",
    "random_grid = {\n",
    "               'clf__alpha': (10, 1, 0.01, 0.001, 0.0001, 0.00001) \n",
    "              }\n",
    "print(random_grid)\n",
    "gs_clf_BerNB = GridSearchCV(nb, random_grid,cv=2)\n",
    "gs_clf_BerNB.fit(X_train, y_train)\n",
    "gs_clf_BerNB.best_params_\n",
    "model = gs_clf_BerNB.best_estimator_\n",
    "y_pred = model.predict(X_test)\n",
    "print('accuracy %s' % accuracy_score(y_pred, y_test))"
   ]
  },
  {
   "cell_type": "code",
   "execution_count": 23,
   "metadata": {},
   "outputs": [
    {
     "name": "stdout",
     "output_type": "stream",
     "text": [
      "accuracy [[ 111    0    0    0    0    0    0    0    0    0    0    0    0    1\n",
      "     0    0    0    0    0    0    1    3    0   27    0    0    0]\n",
      " [   0   34    0    0    0    0    0    0    0    0    0    0    0    0\n",
      "     0    0    0    0    0    0    0    1    0    0    0    0    0]\n",
      " [   0    0   19    0    0    1    3    2    0    0    0    0    0    0\n",
      "     3    1    0    0    0    0    0    2    0    0    1    1    5]\n",
      " [   0    0    0    1    0    0    0    0    0    0    0    0    0    0\n",
      "     0    0    0    0    0    0    0    0    0    0    0    0    0]\n",
      " [   0    1    0    0   76    0    2    1    0    1    0    0    0    2\n",
      "     1    0    1    0    0    2    6    2    0    0    6    0    1]\n",
      " [   0    4    2    0    2   86    0    8    0    2    0    0    1    2\n",
      "     5    0    2    0    0   14    3    5    0    0    9    0    3]\n",
      " [   0    0    0    0    1    0  124    0    0    0    0    0    0    0\n",
      "     0    0    2    0    0    0    0    1    0    0    6    0    0]\n",
      " [   0    0    2    0    0    2    0   96    7    0    0    0    0    0\n",
      "     0    0    5    1   30   10    0    4    0    0    3    2    0]\n",
      " [   0    0    0    0    0    2    0    0   53    0    0    0    0    0\n",
      "     0    0    0    0    4    1    0    0    0    0    0   31    0]\n",
      " [   0    0    0    0    0    0    0    0    0    1    0    0    0    0\n",
      "     0    0    0    0    0    1    0    1    0    0    1    0    0]\n",
      " [   0    0    0    0    0    0    0    0    0    0    0    0    0    0\n",
      "     0    0    0    0    0    0    0    0    0    0    0    0    0]\n",
      " [   0    0    0    0    0    0    0    0    0    0    0    5    0    0\n",
      "     0    0    0    0    0    0    0    1    0    0    2    0    0]\n",
      " [   0    0    0    0    0    0    0    0    0    0    0    0    1    0\n",
      "     0    0    0    0    0    0    0    0    0    0    0    0    0]\n",
      " [   0    0    0    0    0    0    0    1    0    0    0    0    0   47\n",
      "     0    0    0    0    1    4    1    1    0    0    2    0    1]\n",
      " [   0   10    6    0    2    8   27    4    0    2    0    0    0    1\n",
      "  1425    0    3    3    1    1    2   14    0    0    7    1    2]\n",
      " [   0    0    1    0    0    0    0    0    0    0    0    0    0    0\n",
      "     1   32    0    1    0   10    1    0    0    0    0    0    0]\n",
      " [   0    0    9    1    4    5    4   20    0    1    1    0    0    2\n",
      "     2    1  134   12   14   61    4   11    1    0   10    2   16]\n",
      " [   0    0    1    0    0    1    0    0    0    0    0    0    0    0\n",
      "     0    0    0   34    0    0    0    1    0    0    0    0    0]\n",
      " [   0    0    0    0    0    0    0    0    0    0    0    0    0    0\n",
      "     0    0    0    0  576    0    0    0    0    0    0    0    0]\n",
      " [   0    0    4    0    6    3    0   37    0    0    0    0    0    5\n",
      "     3    0   25    5    4  403    3   13    0    0   10    4    4]\n",
      " [   0    2    6    0   14    8   10    2    0    5    0    1    0    1\n",
      "     8    2   17    5    1    5  378   61    0    0   35    0    5]\n",
      " [   0    8    8    3    4   13    7    5    0    5    0    0    0    2\n",
      "    11    5   22   12    0    8   85  415    1    0   22    1    6]\n",
      " [   0    0    0    0    0    0    0    0    0    0    0    0    0    0\n",
      "     0    0    0    0    0    0    1    1    1    0    0    0    0]\n",
      " [   3    0    0    0    0    0    0    0    0    0    0    0    0    0\n",
      "     0    0    0    0    0    0    1    0    0   10    0    0    0]\n",
      " [   0    5    6    0   20    7    8   20    0    1    0    0    0    8\n",
      "     4    1    6    7   30   28   10   14    1    0  223   11    4]\n",
      " [   0    0    5    0    0    7    0   29   23    0    0    0    0    0\n",
      "     0    0    0    0    0    0    8    0    0    0    6  101    0]\n",
      " [   0    0    0    0    0    0    1    2    0    0    0    0    0    0\n",
      "     3    0    3    1    1    8    1    2    0    0    1    1   66]]\n"
     ]
    }
   ],
   "source": [
    "print('accuracy %s' % confusion_matrix(y_pred, y_test))"
   ]
  },
  {
   "cell_type": "code",
   "execution_count": 24,
   "metadata": {},
   "outputs": [
    {
     "name": "stdout",
     "output_type": "stream",
     "text": [
      "accuracy              precision    recall  f1-score   support\n",
      "\n",
      "          2       0.97      0.78      0.86       143\n",
      "         11       0.53      0.97      0.69        35\n",
      "         12       0.28      0.50      0.36        38\n",
      "         14       0.20      1.00      0.33         1\n",
      "         15       0.59      0.75      0.66       102\n",
      "         16       0.60      0.58      0.59       148\n",
      "         17       0.67      0.93      0.78       134\n",
      "         19       0.42      0.59      0.49       162\n",
      "         20       0.64      0.58      0.61        91\n",
      "         21       0.06      0.25      0.09         4\n",
      "         22       0.00      0.00      0.00         0\n",
      "         23       0.83      0.62      0.71         8\n",
      "         24       0.50      1.00      0.67         1\n",
      "         26       0.66      0.81      0.73        58\n",
      "         27       0.97      0.94      0.95      1519\n",
      "         28       0.76      0.70      0.73        46\n",
      "         29       0.61      0.43      0.50       315\n",
      "         30       0.42      0.92      0.58        37\n",
      "         31       0.87      1.00      0.93       576\n",
      "         32       0.72      0.76      0.74       529\n",
      "         33       0.75      0.67      0.71       566\n",
      "         34       0.75      0.65      0.69       643\n",
      "         35       0.25      0.33      0.29         3\n",
      "         51       0.27      0.71      0.39        14\n",
      "        122       0.65      0.54      0.59       414\n",
      "        132       0.65      0.56      0.60       179\n",
      "        134       0.58      0.73      0.65        90\n",
      "\n",
      "avg / total       0.77      0.76      0.76      5856\n",
      "\n"
     ]
    },
    {
     "name": "stderr",
     "output_type": "stream",
     "text": [
      "C:\\Users\\HP\\Anaconda3\\lib\\site-packages\\sklearn\\metrics\\classification.py:1137: UndefinedMetricWarning: Recall and F-score are ill-defined and being set to 0.0 in labels with no true samples.\n",
      "  'recall', 'true', average, warn_for)\n"
     ]
    }
   ],
   "source": [
    "print('accuracy %s' % classification_report(y_pred, y_test))"
   ]
  },
  {
   "cell_type": "markdown",
   "metadata": {},
   "source": [
    "####  RandomForest in GridsearchCV with n_estimators & max_depth in random_grid"
   ]
  },
  {
   "cell_type": "code",
   "execution_count": 25,
   "metadata": {},
   "outputs": [
    {
     "name": "stderr",
     "output_type": "stream",
     "text": [
      "C:\\Users\\HP\\Anaconda3\\lib\\site-packages\\sklearn\\model_selection\\_split.py:605: Warning: The least populated class in y has only 1 members, which is too few. The minimum number of members in any class cannot be less than n_splits=2.\n",
      "  % (min_groups, self.n_splits)), Warning)\n"
     ]
    },
    {
     "name": "stdout",
     "output_type": "stream",
     "text": [
      "{'clf__max_depth': 100, 'clf__n_estimators': 200}\n",
      "accuracy 0.765710382514\n"
     ]
    }
   ],
   "source": [
    "model = Pipeline([('vect', CountVectorizer()),\n",
    "               ('tfidf', TfidfTransformer()),\n",
    "               ('clf', RandomForestClassifier(max_features='auto',bootstrap=False,random_state =42))])\n",
    "random_grid = {'clf__n_estimators': (100, 200), 'clf__max_depth': (50, 100)}\n",
    "gs_clf_rfc = GridSearchCV(model, random_grid,cv=2)\n",
    "gs_clf_rfc.fit(X_train, y_train)\n",
    "print(gs_clf_rfc.best_params_)\n",
    "model = gs_clf_rfc.best_estimator_\n",
    "y_pred = model.predict(X_test)\n",
    "print('accuracy %s' % accuracy_score(y_pred, y_test))"
   ]
  },
  {
   "cell_type": "code",
   "execution_count": 27,
   "metadata": {},
   "outputs": [
    {
     "name": "stdout",
     "output_type": "stream",
     "text": [
      "Classifiction Report              precision    recall  f1-score   support\n",
      "\n",
      "          2       1.00      0.71      0.83       160\n",
      "         11       0.47      1.00      0.64        30\n",
      "         12       0.32      0.73      0.44        30\n",
      "         14       0.20      1.00      0.33         1\n",
      "         15       0.43      0.92      0.58        60\n",
      "         16       0.39      0.68      0.50        82\n",
      "         17       0.69      0.95      0.80       136\n",
      "         19       0.50      0.79      0.61       143\n",
      "         20       0.47      0.63      0.54        62\n",
      "         21       0.06      0.33      0.10         3\n",
      "         22       0.00      0.00      0.00         0\n",
      "         23       0.67      1.00      0.80         4\n",
      "         24       0.50      1.00      0.67         1\n",
      "         26       0.65      0.92      0.76        50\n",
      "         27       0.99      0.82      0.90      1758\n",
      "         28       0.74      0.97      0.84        32\n",
      "         29       0.51      0.68      0.59       165\n",
      "         30       0.30      0.96      0.45        25\n",
      "         31       0.94      0.97      0.96       643\n",
      "         32       0.85      0.69      0.76       681\n",
      "         33       0.79      0.60      0.68       659\n",
      "         34       0.74      0.63      0.68       641\n",
      "         35       0.25      1.00      0.40         1\n",
      "         51       0.05      1.00      0.10         2\n",
      "        122       0.53      0.79      0.63       233\n",
      "        132       0.66      0.59      0.62       173\n",
      "        134       0.60      0.84      0.70        81\n",
      "\n",
      "avg / total       0.82      0.77      0.78      5856\n",
      "\n"
     ]
    },
    {
     "name": "stderr",
     "output_type": "stream",
     "text": [
      "C:\\Users\\HP\\Anaconda3\\lib\\site-packages\\sklearn\\metrics\\classification.py:1137: UndefinedMetricWarning: Recall and F-score are ill-defined and being set to 0.0 in labels with no true samples.\n",
      "  'recall', 'true', average, warn_for)\n"
     ]
    }
   ],
   "source": [
    "print('Classifiction Report %s' % classification_report(y_pred, y_test))"
   ]
  }
 ],
 "metadata": {
  "kernelspec": {
   "display_name": "Python 3",
   "language": "python",
   "name": "python3"
  },
  "language_info": {
   "codemirror_mode": {
    "name": "ipython",
    "version": 3
   },
   "file_extension": ".py",
   "mimetype": "text/x-python",
   "name": "python",
   "nbconvert_exporter": "python",
   "pygments_lexer": "ipython3",
   "version": "3.6.3"
  }
 },
 "nbformat": 4,
 "nbformat_minor": 2
}
