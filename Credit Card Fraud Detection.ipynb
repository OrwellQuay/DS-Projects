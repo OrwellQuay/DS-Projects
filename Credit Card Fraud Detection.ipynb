{
 "cells": [
  {
   "cell_type": "markdown",
   "metadata": {},
   "source": [
    "# Credit Card Fraud Detection\n",
    "Credit card fraud detection is an important use case in finance. The goal of this min-project is to build a robust model that will identify fradulent transcation records. Technically this is a binary classification problem and has certain unique problem aspects (such as data imbalance) that will be dealt here. This dataset is sourced from MLG-ULB (http://mlg.ulb.ac.be) - this is a popular dataset used in many fraud detection pet projects. \n",
    "\n",
    "In this mini project, I ingest the data, define evaluation metrics and try few models (Naive Bayes, Random Forest and LinearSVC)."
   ]
  },
  {
   "cell_type": "code",
   "execution_count": 1,
   "metadata": {
    "collapsed": true
   },
   "outputs": [],
   "source": [
    "import pandas as pd\n",
    "import numpy as np\n",
    "\n",
    "from sklearn.model_selection import train_test_split\n",
    "from sklearn.metrics import accuracy_score\n",
    "\n",
    "from matplotlib import pyplot as plt\n",
    "import seaborn as sns\n",
    "\n",
    "from sklearn.preprocessing import MinMaxScaler\n",
    "from sklearn.naive_bayes import MultinomialNB\n",
    "from sklearn.naive_bayes import GaussianNB\n",
    "from sklearn.naive_bayes import BernoulliNB\n",
    "from sklearn.multiclass import OneVsRestClassifier\n",
    "from sklearn.svm import LinearSVC\n",
    "from sklearn.pipeline import Pipeline\n",
    "from sklearn.metrics import roc_curve, precision_recall_curve, auc, make_scorer, recall_score, accuracy_score, precision_score, confusion_matrix\n",
    "from sklearn.model_selection import train_test_split,GridSearchCV,StratifiedKFold\n",
    "from sklearn.metrics import classification_report,accuracy_score,confusion_matrix\n",
    "from sklearn.base import BaseEstimator, ClassifierMixin\n",
    "from sklearn.ensemble import RandomForestClassifier\n",
    "from sklearn.model_selection import RandomizedSearchCV\n",
    "from sklearn.metrics import average_precision_score"
   ]
  },
  {
   "cell_type": "code",
   "execution_count": 2,
   "metadata": {
    "collapsed": true
   },
   "outputs": [],
   "source": [
    "data = pd.read_csv(r\"C:\\Users\\HP\\Documents\\DataScience\\Python Scripts\\Credit Card\\ULB\\creditcard.csv\")"
   ]
  },
  {
   "cell_type": "markdown",
   "metadata": {},
   "source": [
    "## A look at the data\n",
    "As see in the plot below, this data is heavly imbalanced. About 99.8% of the records are negative i.e non-fradulent records. Such heavy class imbalance needs to be handled with care as usual evaluation metrics such as accuracy don't hold good. Use case specific metrics such as Recall, Precision, True-Negative-Rate etc can be used as evaluation metrics.\n",
    "\n",
    "Given the nature of his dataset i.e highly imbalanced and huge significance associated with finding a fradulent transactions, I have chosen Recall (primary metric) and precision, f1-score as secondary metrics.\n",
    "\n",
    "While building classification model, I will leverage 'class_weight' parameter in Scikit-Learn to overcame the class imbalance"
   ]
  },
  {
   "cell_type": "code",
   "execution_count": 3,
   "metadata": {},
   "outputs": [
    {
     "data": {
      "text/html": [
       "<div>\n",
       "<style>\n",
       "    .dataframe thead tr:only-child th {\n",
       "        text-align: right;\n",
       "    }\n",
       "\n",
       "    .dataframe thead th {\n",
       "        text-align: left;\n",
       "    }\n",
       "\n",
       "    .dataframe tbody tr th {\n",
       "        vertical-align: top;\n",
       "    }\n",
       "</style>\n",
       "<table border=\"1\" class=\"dataframe\">\n",
       "  <thead>\n",
       "    <tr style=\"text-align: right;\">\n",
       "      <th></th>\n",
       "      <th>Time</th>\n",
       "      <th>V1</th>\n",
       "      <th>V2</th>\n",
       "      <th>V3</th>\n",
       "      <th>V4</th>\n",
       "      <th>V5</th>\n",
       "      <th>V6</th>\n",
       "      <th>V7</th>\n",
       "      <th>V8</th>\n",
       "      <th>V9</th>\n",
       "      <th>...</th>\n",
       "      <th>V21</th>\n",
       "      <th>V22</th>\n",
       "      <th>V23</th>\n",
       "      <th>V24</th>\n",
       "      <th>V25</th>\n",
       "      <th>V26</th>\n",
       "      <th>V27</th>\n",
       "      <th>V28</th>\n",
       "      <th>Amount</th>\n",
       "      <th>Class</th>\n",
       "    </tr>\n",
       "  </thead>\n",
       "  <tbody>\n",
       "    <tr>\n",
       "      <th>0</th>\n",
       "      <td>0.0</td>\n",
       "      <td>-1.359807</td>\n",
       "      <td>-0.072781</td>\n",
       "      <td>2.536347</td>\n",
       "      <td>1.378155</td>\n",
       "      <td>-0.338321</td>\n",
       "      <td>0.462388</td>\n",
       "      <td>0.239599</td>\n",
       "      <td>0.098698</td>\n",
       "      <td>0.363787</td>\n",
       "      <td>...</td>\n",
       "      <td>-0.018307</td>\n",
       "      <td>0.277838</td>\n",
       "      <td>-0.110474</td>\n",
       "      <td>0.066928</td>\n",
       "      <td>0.128539</td>\n",
       "      <td>-0.189115</td>\n",
       "      <td>0.133558</td>\n",
       "      <td>-0.021053</td>\n",
       "      <td>149.62</td>\n",
       "      <td>0</td>\n",
       "    </tr>\n",
       "    <tr>\n",
       "      <th>1</th>\n",
       "      <td>0.0</td>\n",
       "      <td>1.191857</td>\n",
       "      <td>0.266151</td>\n",
       "      <td>0.166480</td>\n",
       "      <td>0.448154</td>\n",
       "      <td>0.060018</td>\n",
       "      <td>-0.082361</td>\n",
       "      <td>-0.078803</td>\n",
       "      <td>0.085102</td>\n",
       "      <td>-0.255425</td>\n",
       "      <td>...</td>\n",
       "      <td>-0.225775</td>\n",
       "      <td>-0.638672</td>\n",
       "      <td>0.101288</td>\n",
       "      <td>-0.339846</td>\n",
       "      <td>0.167170</td>\n",
       "      <td>0.125895</td>\n",
       "      <td>-0.008983</td>\n",
       "      <td>0.014724</td>\n",
       "      <td>2.69</td>\n",
       "      <td>0</td>\n",
       "    </tr>\n",
       "    <tr>\n",
       "      <th>2</th>\n",
       "      <td>1.0</td>\n",
       "      <td>-1.358354</td>\n",
       "      <td>-1.340163</td>\n",
       "      <td>1.773209</td>\n",
       "      <td>0.379780</td>\n",
       "      <td>-0.503198</td>\n",
       "      <td>1.800499</td>\n",
       "      <td>0.791461</td>\n",
       "      <td>0.247676</td>\n",
       "      <td>-1.514654</td>\n",
       "      <td>...</td>\n",
       "      <td>0.247998</td>\n",
       "      <td>0.771679</td>\n",
       "      <td>0.909412</td>\n",
       "      <td>-0.689281</td>\n",
       "      <td>-0.327642</td>\n",
       "      <td>-0.139097</td>\n",
       "      <td>-0.055353</td>\n",
       "      <td>-0.059752</td>\n",
       "      <td>378.66</td>\n",
       "      <td>0</td>\n",
       "    </tr>\n",
       "    <tr>\n",
       "      <th>3</th>\n",
       "      <td>1.0</td>\n",
       "      <td>-0.966272</td>\n",
       "      <td>-0.185226</td>\n",
       "      <td>1.792993</td>\n",
       "      <td>-0.863291</td>\n",
       "      <td>-0.010309</td>\n",
       "      <td>1.247203</td>\n",
       "      <td>0.237609</td>\n",
       "      <td>0.377436</td>\n",
       "      <td>-1.387024</td>\n",
       "      <td>...</td>\n",
       "      <td>-0.108300</td>\n",
       "      <td>0.005274</td>\n",
       "      <td>-0.190321</td>\n",
       "      <td>-1.175575</td>\n",
       "      <td>0.647376</td>\n",
       "      <td>-0.221929</td>\n",
       "      <td>0.062723</td>\n",
       "      <td>0.061458</td>\n",
       "      <td>123.50</td>\n",
       "      <td>0</td>\n",
       "    </tr>\n",
       "    <tr>\n",
       "      <th>4</th>\n",
       "      <td>2.0</td>\n",
       "      <td>-1.158233</td>\n",
       "      <td>0.877737</td>\n",
       "      <td>1.548718</td>\n",
       "      <td>0.403034</td>\n",
       "      <td>-0.407193</td>\n",
       "      <td>0.095921</td>\n",
       "      <td>0.592941</td>\n",
       "      <td>-0.270533</td>\n",
       "      <td>0.817739</td>\n",
       "      <td>...</td>\n",
       "      <td>-0.009431</td>\n",
       "      <td>0.798278</td>\n",
       "      <td>-0.137458</td>\n",
       "      <td>0.141267</td>\n",
       "      <td>-0.206010</td>\n",
       "      <td>0.502292</td>\n",
       "      <td>0.219422</td>\n",
       "      <td>0.215153</td>\n",
       "      <td>69.99</td>\n",
       "      <td>0</td>\n",
       "    </tr>\n",
       "  </tbody>\n",
       "</table>\n",
       "<p>5 rows × 31 columns</p>\n",
       "</div>"
      ],
      "text/plain": [
       "   Time        V1        V2        V3        V4        V5        V6        V7  \\\n",
       "0   0.0 -1.359807 -0.072781  2.536347  1.378155 -0.338321  0.462388  0.239599   \n",
       "1   0.0  1.191857  0.266151  0.166480  0.448154  0.060018 -0.082361 -0.078803   \n",
       "2   1.0 -1.358354 -1.340163  1.773209  0.379780 -0.503198  1.800499  0.791461   \n",
       "3   1.0 -0.966272 -0.185226  1.792993 -0.863291 -0.010309  1.247203  0.237609   \n",
       "4   2.0 -1.158233  0.877737  1.548718  0.403034 -0.407193  0.095921  0.592941   \n",
       "\n",
       "         V8        V9  ...         V21       V22       V23       V24  \\\n",
       "0  0.098698  0.363787  ...   -0.018307  0.277838 -0.110474  0.066928   \n",
       "1  0.085102 -0.255425  ...   -0.225775 -0.638672  0.101288 -0.339846   \n",
       "2  0.247676 -1.514654  ...    0.247998  0.771679  0.909412 -0.689281   \n",
       "3  0.377436 -1.387024  ...   -0.108300  0.005274 -0.190321 -1.175575   \n",
       "4 -0.270533  0.817739  ...   -0.009431  0.798278 -0.137458  0.141267   \n",
       "\n",
       "        V25       V26       V27       V28  Amount  Class  \n",
       "0  0.128539 -0.189115  0.133558 -0.021053  149.62      0  \n",
       "1  0.167170  0.125895 -0.008983  0.014724    2.69      0  \n",
       "2 -0.327642 -0.139097 -0.055353 -0.059752  378.66      0  \n",
       "3  0.647376 -0.221929  0.062723  0.061458  123.50      0  \n",
       "4 -0.206010  0.502292  0.219422  0.215153   69.99      0  \n",
       "\n",
       "[5 rows x 31 columns]"
      ]
     },
     "execution_count": 3,
     "metadata": {},
     "output_type": "execute_result"
    }
   ],
   "source": [
    "data.head()"
   ]
  },
  {
   "cell_type": "code",
   "execution_count": 4,
   "metadata": {},
   "outputs": [
    {
     "data": {
      "image/png": "[encoded data removed]",
      "text/plain": [
       "<Figure size 432x288 with 1 Axes>"
      ]
     },
     "metadata": {},
     "output_type": "display_data"
    }
   ],
   "source": [
    "ax = sns.countplot(x=\"Class\", data=data)\n",
    "plt.show()"
   ]
  },
  {
   "cell_type": "code",
   "execution_count": 5,
   "metadata": {},
   "outputs": [
    {
     "data": {
      "text/plain": [
       "0.99827251436937992"
      ]
     },
     "execution_count": 5,
     "metadata": {},
     "output_type": "execute_result"
    }
   ],
   "source": [
    "Imb_Q = data.loc[data.Class == 0, \"Class\"].count()/len(data.Class)\n",
    "Imb_Q"
   ]
  },
  {
   "cell_type": "markdown",
   "metadata": {},
   "source": [
    "#### Missing values\n",
    "There are no missing values in this dataset as seen below. "
   ]
  },
  {
   "cell_type": "code",
   "execution_count": 6,
   "metadata": {},
   "outputs": [
    {
     "data": {
      "text/plain": [
       "False"
      ]
     },
     "execution_count": 6,
     "metadata": {},
     "output_type": "execute_result"
    }
   ],
   "source": [
    "data.isnull().any().any()"
   ]
  },
  {
   "cell_type": "markdown",
   "metadata": {},
   "source": [
    "### Correlation \n",
    "Correlataion & multi collinearity analysis is not done as the data set already consists of PCA features. "
   ]
  },
  {
   "cell_type": "markdown",
   "metadata": {},
   "source": [
    "## Model \n",
    "Naive Bayes, RandomForest and SVC have been tried.\n",
    "Gridsearch is used for RF and SVC - but lack of suitability of gridsearch has been illustrated for SVC (the same will be shown for RF as well in next version).\n",
    "Precision-Recall curve has been produced for SVC model. "
   ]
  },
  {
   "cell_type": "code",
   "execution_count": 7,
   "metadata": {
    "collapsed": true
   },
   "outputs": [],
   "source": [
    "X = data"
   ]
  },
  {
   "cell_type": "code",
   "execution_count": 8,
   "metadata": {
    "collapsed": true
   },
   "outputs": [],
   "source": [
    "y = data['Class']\n",
    "del X['Time']\n",
    "del X['Class']"
   ]
  },
  {
   "cell_type": "code",
   "execution_count": 9,
   "metadata": {
    "collapsed": true
   },
   "outputs": [],
   "source": [
    "X_train, X_test, y_train, y_test = train_test_split(X, y, test_size=0.3, random_state = 5)"
   ]
  },
  {
   "cell_type": "code",
   "execution_count": 10,
   "metadata": {},
   "outputs": [
    {
     "data": {
      "text/plain": [
       "(199364, 29)"
      ]
     },
     "execution_count": 10,
     "metadata": {},
     "output_type": "execute_result"
    }
   ],
   "source": [
    "X_train.shape"
   ]
  },
  {
   "cell_type": "code",
   "execution_count": 11,
   "metadata": {},
   "outputs": [
    {
     "data": {
      "text/plain": [
       "(199364,)"
      ]
     },
     "execution_count": 11,
     "metadata": {},
     "output_type": "execute_result"
    }
   ],
   "source": [
    "y_train.shape"
   ]
  },
  {
   "cell_type": "markdown",
   "metadata": {},
   "source": [
    "### Naivebayes \n",
    "GaussianNB provides poor results i.e extremely low precision, recall and f1-score for the positive class (i.e Fraud cases)\n",
    "Higher values for these for the negative cases does not matter as it is critical to get higher scores for the positive class.\n",
    "Interestingly, use of priors to adjust the weight as well shows only worse results. "
   ]
  },
  {
   "cell_type": "code",
   "execution_count": 14,
   "metadata": {},
   "outputs": [
    {
     "name": "stdout",
     "output_type": "stream",
     "text": [
      "accuracy               precision    recall  f1-score   support\n",
      "\n",
      "           0       0.98      1.00      0.99     83492\n",
      "           1       0.82      0.06      0.12      1951\n",
      "\n",
      "   micro avg       0.98      0.98      0.98     85443\n",
      "   macro avg       0.90      0.53      0.55     85443\n",
      "weighted avg       0.97      0.98      0.97     85443\n",
      "\n"
     ]
    }
   ],
   "source": [
    "gnb=GaussianNB()\n",
    "gnb.fit(X_train, y_train)\n",
    "\n",
    "y_pred = gnb.predict(X_test)\n",
    "\n",
    "print('accuracy %s' % classification_report(y_pred, y_test))"
   ]
  },
  {
   "cell_type": "code",
   "execution_count": 12,
   "metadata": {},
   "outputs": [
    {
     "name": "stdout",
     "output_type": "stream",
     "text": [
      "accuracy               precision    recall  f1-score   support\n",
      "\n",
      "           0       0.97      1.00      0.99     82903\n",
      "           1       0.86      0.05      0.10      2540\n",
      "\n",
      "   micro avg       0.97      0.97      0.97     85443\n",
      "   macro avg       0.92      0.53      0.54     85443\n",
      "weighted avg       0.97      0.97      0.96     85443\n",
      "\n"
     ]
    }
   ],
   "source": [
    "gnb=GaussianNB(priors=[.02, .98])\n",
    "gnb.fit(X_train, y_train)\n",
    "\n",
    "y_pred = gnb.predict(X_test)\n",
    "\n",
    "print('accuracy %s' % classification_report(y_pred, y_test))"
   ]
  },
  {
   "cell_type": "markdown",
   "metadata": {},
   "source": [
    "###  RandomForest \n",
    "\n",
    "Randomforest(RF) is an important classification model which is an ensemble of Decision Trees. Below, I have used RF in two modes\n",
    "A: Without any handling for class imbalance\n",
    "B: By handling imbalance, leveraging class_weight parameter in scikit-learn\n",
    "\n",
    "Interestingly, performance (specifically on recall that I am focussed on for this usecase) of B (i.e using 'balanced') is slightly less than A. I have tried LinearSVC as well (below) but RF (A) performs is better among the two - better Recall, Precision and f1-score. \n",
    "Note: Precision-Recall curve has been plotted for LinearSVC model - the same can be done for RF as well. "
   ]
  },
  {
   "cell_type": "markdown",
   "metadata": {},
   "source": [
    "#### Randomforest in GridsearchCV with n_estimators & max_depth in random_grid; NO special handing for imbalance.\n",
    "class_weight NOT assigned. "
   ]
  },
  {
   "cell_type": "code",
   "execution_count": 37,
   "metadata": {},
   "outputs": [
    {
     "name": "stdout",
     "output_type": "stream",
     "text": [
      "{'clf__max_depth': 50, 'clf__n_estimators': 200}\n",
      "Classifiction Report               precision    recall  f1-score   support\n",
      "\n",
      "           0       1.00      1.00      1.00     85322\n",
      "           1       0.79      0.97      0.87       121\n",
      "\n",
      "   micro avg       1.00      1.00      1.00     85443\n",
      "   macro avg       0.90      0.98      0.93     85443\n",
      "weighted avg       1.00      1.00      1.00     85443\n",
      "\n"
     ]
    }
   ],
   "source": [
    "model = Pipeline([('clf', RandomForestClassifier(max_features='auto',bootstrap=False,random_state =42))])\n",
    "random_grid = {'clf__n_estimators': (100, 200), 'clf__max_depth': (50, 100)}\n",
    "gs_clf_rfc = GridSearchCV(model, random_grid,cv=2)\n",
    "gs_clf_rfc.fit(X_train, y_train)\n",
    "print(gs_clf_rfc.best_params_)\n",
    "model = gs_clf_rfc.best_estimator_\n",
    "y_pred = model.predict(X_test)\n",
    "print('Classifiction Report %s' % classification_report(y_pred, y_test))"
   ]
  },
  {
   "cell_type": "markdown",
   "metadata": {},
   "source": [
    "#### Randomforest with class_weight = 'balanced'"
   ]
  },
  {
   "cell_type": "code",
   "execution_count": 45,
   "metadata": {},
   "outputs": [
    {
     "name": "stdout",
     "output_type": "stream",
     "text": [
      "Classifiction Report               precision    recall  f1-score   support\n",
      "\n",
      "           0       1.00      1.00      1.00     85327\n",
      "           1       0.76      0.97      0.86       116\n",
      "\n",
      "   micro avg       1.00      1.00      1.00     85443\n",
      "   macro avg       0.88      0.99      0.93     85443\n",
      "weighted avg       1.00      1.00      1.00     85443\n",
      "\n"
     ]
    }
   ],
   "source": [
    "model = RandomForestClassifier(max_features='auto',bootstrap=False,class_weight = 'balanced', n_estimators = 200, random_state =42)\n",
    "model.fit(X_train, y_train)\n",
    "y_pred = model.predict(X_test)\n",
    "print('Classifiction Report %s' % classification_report(y_pred, y_test))"
   ]
  },
  {
   "cell_type": "code",
   "execution_count": 47,
   "metadata": {},
   "outputs": [
    {
     "data": {
      "text/plain": [
       "array([ 0.00760462,  0.0213011 ,  0.04293572,  0.12116012,  0.00993065,\n",
       "        0.00653447,  0.04024461,  0.0104868 ,  0.0184757 ,  0.15597324,\n",
       "        0.08686782,  0.09850065,  0.00709177,  0.15578835,  0.00583045,\n",
       "        0.0322985 ,  0.0721186 ,  0.01656929,  0.01412275,  0.00611949,\n",
       "        0.01155878,  0.00468756,  0.00739704,  0.00422905,  0.00554411,\n",
       "        0.007218  ,  0.01083082,  0.00686064,  0.01171931])"
      ]
     },
     "execution_count": 47,
     "metadata": {},
     "output_type": "execute_result"
    }
   ],
   "source": [
    "model.feature_importances_"
   ]
  },
  {
   "cell_type": "markdown",
   "metadata": {
    "collapsed": true
   },
   "source": [
    "### SVC\n",
    "SVM Classification (SVC) is used below after feature scaling. \n",
    "A: Without any handling for class imbalance\n",
    "B: By handling imbalance, leveraging class_weight parameter in scikit-learn\n",
    "\n",
    "Interestingly, performance (specifically on recall that I am focussed on for this usecase) of B (i.e using 'balanced') is slightly less than A. "
   ]
  },
  {
   "cell_type": "markdown",
   "metadata": {},
   "source": [
    "#### SVC after feature scaling and Test/Train split"
   ]
  },
  {
   "cell_type": "code",
   "execution_count": 7,
   "metadata": {
    "collapsed": true
   },
   "outputs": [],
   "source": [
    "colnames = list(data)"
   ]
  },
  {
   "cell_type": "code",
   "execution_count": 8,
   "metadata": {},
   "outputs": [
    {
     "name": "stderr",
     "output_type": "stream",
     "text": [
      "C:\\Users\\HP\\Anaconda3\\lib\\site-packages\\sklearn\\preprocessing\\data.py:323: DataConversionWarning: Data with input dtype int64, float64 were all converted to float64 by MinMaxScaler.\n",
      "  return self.partial_fit(X, y)\n"
     ]
    }
   ],
   "source": [
    "scaler = MinMaxScaler()\n",
    "scaled_data = scaler.fit_transform(data)\n",
    "scaled_data = pd.DataFrame(scaled_data, columns= colnames)"
   ]
  },
  {
   "cell_type": "code",
   "execution_count": 9,
   "metadata": {
    "collapsed": true
   },
   "outputs": [],
   "source": [
    "scaled_X = scaled_data"
   ]
  },
  {
   "cell_type": "code",
   "execution_count": 10,
   "metadata": {
    "collapsed": true
   },
   "outputs": [],
   "source": [
    "scaled_y = scaled_data['Class']"
   ]
  },
  {
   "cell_type": "code",
   "execution_count": 11,
   "metadata": {
    "collapsed": true
   },
   "outputs": [],
   "source": [
    "del scaled_X['Time']\n",
    "del scaled_X['Class']"
   ]
  },
  {
   "cell_type": "code",
   "execution_count": 12,
   "metadata": {
    "collapsed": true
   },
   "outputs": [],
   "source": [
    "X_s_train, X_s_test, y_s_train, y_s_test = train_test_split(scaled_X, scaled_y, test_size=0.3, random_state = 5)"
   ]
  },
  {
   "cell_type": "markdown",
   "metadata": {},
   "source": [
    "#### SVC without class weigth balance"
   ]
  },
  {
   "cell_type": "code",
   "execution_count": 38,
   "metadata": {},
   "outputs": [
    {
     "name": "stdout",
     "output_type": "stream",
     "text": [
      "accuracy               precision    recall  f1-score   support\n",
      "\n",
      "         0.0       1.00      1.00      1.00     85352\n",
      "         1.0       0.55      0.89      0.68        91\n",
      "\n",
      "   micro avg       1.00      1.00      1.00     85443\n",
      "   macro avg       0.77      0.94      0.84     85443\n",
      "weighted avg       1.00      1.00      1.00     85443\n",
      "\n"
     ]
    }
   ],
   "source": [
    "model_svc = LinearSVC()\n",
    "model_svc.fit(X_s_train, y_s_train)\n",
    "y_s_pred = model_svc.predict(X_s_test)\n",
    "print('accuracy %s' % classification_report(y_s_pred, y_s_test))"
   ]
  },
  {
   "cell_type": "markdown",
   "metadata": {},
   "source": [
    "#### SVC with class weight balance"
   ]
  },
  {
   "cell_type": "markdown",
   "metadata": {},
   "source": [
    "model_svc = LinearSVC(C=1.0, class_weight = 'balanced')\n",
    "model_svc.fit(X_s_train, y_s_train)\n",
    "y_s_pred = model_svc.predict(X_s_test)\n",
    "print('accuracy %s' % classification_report(y_s_pred, y_s_test))"
   ]
  },
  {
   "cell_type": "markdown",
   "metadata": {},
   "source": [
    "### Tuning SVC \n",
    "#### Tuning the hyper-parameters and Threshold\n",
    "\n",
    "Tuning needs to be done in two steps: A. Tuning the hyper-parameters and B. Tuning the Threshold"
   ]
  },
  {
   "cell_type": "markdown",
   "metadata": {},
   "source": [
    "#### Tuning SVC hyper-parameters\n",
    "As seen above, use of class_weight = 'balanced' produced results that are worse than the option where no class_weight was configured - this is a point of concern and needs further analysis.\n",
    "\n",
    "To overcome this predicament, I have used (below) another direct way of seeding the class weights i.e using a dict. \n",
    "Have tried to find the best C and class_weight values by manual experimentation using a range of values for both.\n",
    "\n",
    "As can be seen, best param found by this approach is C=0.1 and class_weight of 0.05/0.95 - this produces excellent recall (0.91), Precision (0.76), f1-score (0.83) for Class '1' which is much superior to corresponding values of recall (0.89), Precison (0.55) and f1-score (0.68) of option using default C & class_weight values.\n",
    "\n",
    "##### Using GridsearchCV \n",
    "GridsearchCV can as well be used for this and does appear, superficially to be a better approach. But it is not the case as is shown below. "
   ]
  },
  {
   "cell_type": "code",
   "execution_count": 43,
   "metadata": {},
   "outputs": [
    {
     "name": "stdout",
     "output_type": "stream",
     "text": [
      "              precision    recall  f1-score   support\n",
      "\n",
      "         0.0       1.00      1.00      1.00     85300\n",
      "         1.0       0.81      0.84      0.82       143\n",
      "\n",
      "   micro avg       1.00      1.00      1.00     85443\n",
      "   macro avg       0.91      0.92      0.91     85443\n",
      "weighted avg       1.00      1.00      1.00     85443\n",
      "\n"
     ]
    }
   ],
   "source": [
    "model_svc = LinearSVC(C=1.0, class_weight = {0: 0.05, 1: 0.95})\n",
    "model_svc.fit(X_s_train, y_s_train)\n",
    "y_s_pred = model_svc.predict(X_s_test)\n",
    "print(classification_report(y_s_pred, y_s_test))"
   ]
  },
  {
   "cell_type": "markdown",
   "metadata": {},
   "source": [
    "C = 0.1 Class weight: 0.05/0.95"
   ]
  },
  {
   "cell_type": "code",
   "execution_count": 14,
   "metadata": {},
   "outputs": [
    {
     "name": "stdout",
     "output_type": "stream",
     "text": [
      "              precision    recall  f1-score   support\n",
      "\n",
      "         0.0       1.00      1.00      1.00     85320\n",
      "         1.0       0.76      0.91      0.83       123\n",
      "\n",
      "   micro avg       1.00      1.00      1.00     85443\n",
      "   macro avg       0.88      0.96      0.91     85443\n",
      "weighted avg       1.00      1.00      1.00     85443\n",
      "\n"
     ]
    }
   ],
   "source": [
    "model_svc = LinearSVC(C=0.1, class_weight = {0: 0.05, 1: 0.95})\n",
    "model_svc.fit(X_s_train, y_s_train)\n",
    "y_s_pred = model_svc.predict(X_s_test)\n",
    "print(classification_report(y_s_pred, y_s_test))"
   ]
  },
  {
   "cell_type": "markdown",
   "metadata": {},
   "source": [
    "C = 0.1, Class weight: 0.08/0.92"
   ]
  },
  {
   "cell_type": "code",
   "execution_count": 25,
   "metadata": {},
   "outputs": [
    {
     "name": "stdout",
     "output_type": "stream",
     "text": [
      "              precision    recall  f1-score   support\n",
      "\n",
      "         0.0       1.00      1.00      1.00     85321\n",
      "         1.0       0.75      0.91      0.82       122\n",
      "\n",
      "   micro avg       1.00      1.00      1.00     85443\n",
      "   macro avg       0.87      0.95      0.91     85443\n",
      "weighted avg       1.00      1.00      1.00     85443\n",
      "\n"
     ]
    }
   ],
   "source": [
    "model_svc = LinearSVC(C=0.1, class_weight = {0: 0.08, 1: 0.92})\n",
    "model_svc.fit(X_s_train, y_s_train)\n",
    "y_s_pred = model_svc.predict(X_s_test)\n",
    "print(classification_report(y_s_pred, y_s_test))"
   ]
  },
  {
   "cell_type": "markdown",
   "metadata": {},
   "source": [
    "C = 0.08, Class weight: 0.05/0.95"
   ]
  },
  {
   "cell_type": "code",
   "execution_count": 27,
   "metadata": {},
   "outputs": [
    {
     "name": "stdout",
     "output_type": "stream",
     "text": [
      "              precision    recall  f1-score   support\n",
      "\n",
      "         0.0       1.00      1.00      1.00     85321\n",
      "         1.0       0.75      0.91      0.82       122\n",
      "\n",
      "   micro avg       1.00      1.00      1.00     85443\n",
      "   macro avg       0.87      0.95      0.91     85443\n",
      "weighted avg       1.00      1.00      1.00     85443\n",
      "\n"
     ]
    }
   ],
   "source": [
    "model_svc = LinearSVC(C=0.08, class_weight = {0: 0.05, 1: 0.95})\n",
    "model_svc.fit(X_s_train, y_s_train)\n",
    "y_s_pred = model_svc.predict(X_s_test)\n",
    "print(classification_report(y_s_pred, y_s_test))"
   ]
  },
  {
   "cell_type": "markdown",
   "metadata": {},
   "source": [
    "C = 0.2, Class weight: 0.08/0.92"
   ]
  },
  {
   "cell_type": "code",
   "execution_count": 26,
   "metadata": {},
   "outputs": [
    {
     "name": "stdout",
     "output_type": "stream",
     "text": [
      "              precision    recall  f1-score   support\n",
      "\n",
      "         0.0       1.00      1.00      1.00     85318\n",
      "         1.0       0.76      0.90      0.83       125\n",
      "\n",
      "   micro avg       1.00      1.00      1.00     85443\n",
      "   macro avg       0.88      0.95      0.91     85443\n",
      "weighted avg       1.00      1.00      1.00     85443\n",
      "\n"
     ]
    }
   ],
   "source": [
    "model_svc = LinearSVC(C=0.2, class_weight = {0: 0.08, 1: 0.92})\n",
    "model_svc.fit(X_s_train, y_s_train)\n",
    "y_s_pred = model_svc.predict(X_s_test)\n",
    "print(classification_report(y_s_pred, y_s_test))"
   ]
  },
  {
   "cell_type": "markdown",
   "metadata": {},
   "source": [
    "C = 0.01, Class weight: 0.05/0.95"
   ]
  },
  {
   "cell_type": "code",
   "execution_count": 28,
   "metadata": {},
   "outputs": [
    {
     "name": "stdout",
     "output_type": "stream",
     "text": [
      "              precision    recall  f1-score   support\n",
      "\n",
      "         0.0       1.00      1.00      1.00     85370\n",
      "         1.0       0.43      0.86      0.57        73\n",
      "\n",
      "   micro avg       1.00      1.00      1.00     85443\n",
      "   macro avg       0.71      0.93      0.78     85443\n",
      "weighted avg       1.00      1.00      1.00     85443\n",
      "\n"
     ]
    }
   ],
   "source": [
    "model_svc = LinearSVC(C=0.01, class_weight = {0: 0.05, 1: 0.95})\n",
    "model_svc.fit(X_s_train, y_s_train)\n",
    "y_s_pred = model_svc.predict(X_s_test)\n",
    "print(classification_report(y_s_pred, y_s_test))"
   ]
  },
  {
   "cell_type": "markdown",
   "metadata": {},
   "source": [
    "#### \n",
    "C = 0.3  Class weight: 0.05/0.95"
   ]
  },
  {
   "cell_type": "code",
   "execution_count": 24,
   "metadata": {},
   "outputs": [
    {
     "name": "stdout",
     "output_type": "stream",
     "text": [
      "              precision    recall  f1-score   support\n",
      "\n",
      "         0.0       1.00      1.00      1.00     85311\n",
      "         1.0       0.79      0.89      0.84       132\n",
      "\n",
      "   micro avg       1.00      1.00      1.00     85443\n",
      "   macro avg       0.90      0.94      0.92     85443\n",
      "weighted avg       1.00      1.00      1.00     85443\n",
      "\n"
     ]
    }
   ],
   "source": [
    "model_svc = LinearSVC(C=0.3, class_weight = {0: 0.05, 1: 0.95})\n",
    "model_svc.fit(X_s_train, y_s_train)\n",
    "y_s_pred = model_svc.predict(X_s_test)\n",
    "print(classification_report(y_s_pred, y_s_test))"
   ]
  },
  {
   "cell_type": "markdown",
   "metadata": {},
   "source": [
    "#### Using GridsearchCV to find best fit a chosen scorer\n",
    "\n",
    "In previous cells, I have demonstrated way to finding better fit params (C & class_weight) using experimentation (manual). However, there is an easy way to do it using GridSearchCV - GridSearchCV can be used to find the best fit for a given score (say 'recall' or 'precision' etc). I have shown this in below cells. \n",
    "\n",
    "BUT, I did NOT find this as a great technique. This is because this method focusses on the overall (i.e average) value of a chosen score (say 'recall') which is NOT of significance in case of problems with extrement data imbalance as this. This behavious is illustrated below - the best params found by GridSearchCV is C=1 and class_weight = {0: 0.05, 1: 0.95}. But this is NOT the optimal param and does not result in the best result (as I have found using manual experimentation in above cells).\n",
    "\n",
    "BEST PARAMS & RESULTS via manual experimentation: C=0.1, class_weight {0: 0.05, 1: 0.95}\n",
    "  precision    recall  f1-score   support\n",
    "\n",
    "         0.0       1.00      1.00      1.00     85320\n",
    "         1.0       0.76      0.91      0.83       123\n",
    "\n",
    "BEST PARAMS & RESULTS via GridSearchCV: C=0.1, class_weight {0: 0.05, 1: 0.95}\n",
    " "
   ]
  },
  {
   "cell_type": "code",
   "execution_count": 21,
   "metadata": {
    "collapsed": true
   },
   "outputs": [],
   "source": [
    "clf = LinearSVC()"
   ]
  },
  {
   "cell_type": "code",
   "execution_count": 22,
   "metadata": {
    "collapsed": true
   },
   "outputs": [],
   "source": [
    "param_grid = {\n",
    "    'C': [0.01, 0.1, 1], \n",
    "    'class_weight': [{0: 0.05, 1: 0.95},{0: 0.08, 1: 0.92}, {0: 0.1, 1: 0.9} ]\n",
    "}\n",
    "\n",
    "scorers = {\n",
    "    'precision_score': make_scorer(precision_score),\n",
    "    'recall_score': make_scorer(recall_score),\n",
    "    'accuracy_score': make_scorer(accuracy_score)\n",
    "}\n"
   ]
  },
  {
   "cell_type": "code",
   "execution_count": 23,
   "metadata": {
    "collapsed": true
   },
   "outputs": [],
   "source": [
    "def grid_search_wrapper(refit_score):\n",
    "    \"\"\"\n",
    "    fits a GridSearchCV classifier using refit_score for optimization\n",
    "    prints classifier performance metrics\n",
    "    \"\"\"\n",
    "    skf = StratifiedKFold(n_splits=10)\n",
    "    grid_search = GridSearchCV(clf, param_grid, scoring=scorers, refit=refit_score,\n",
    "                           cv=skf, return_train_score=True)\n",
    "    grid_search.fit(X_s_train, y_s_train)\n",
    "\n",
    "    print('Best params for {}'.format(refit_score))\n",
    "    print(grid_search.best_params_)\n",
    "    \n",
    "    # make the predictions\n",
    "    #grid_search = grid_search.best_params_\n",
    "    y_s_pred = grid_search.predict(X_s_test)\n",
    "\n",
    "\n",
    "    # Classification Report\n",
    "    print(classification_report(y_s_pred, y_s_test))\n",
    "    # confusion matrix on the test data.\n",
    "    #print('\\nConfusion matrix of Random Forest optimized for {} on the test data:'.format(refit_score))\n",
    "    #print(pd.DataFrame(confusion_matrix(y_test, y_pred), columns=['pred_neg', 'pred_pos'], index=['neg', 'pos']))\n",
    "    return grid_search"
   ]
  },
  {
   "cell_type": "code",
   "execution_count": 24,
   "metadata": {},
   "outputs": [
    {
     "name": "stdout",
     "output_type": "stream",
     "text": [
      "Best params for recall_score\n",
      "{'C': 1, 'class_weight': {0: 0.05, 1: 0.95}}\n",
      "              precision    recall  f1-score   support\n",
      "\n",
      "         0.0       1.00      1.00      1.00     85300\n",
      "         1.0       0.81      0.84      0.82       143\n",
      "\n",
      "   micro avg       1.00      1.00      1.00     85443\n",
      "   macro avg       0.91      0.92      0.91     85443\n",
      "weighted avg       1.00      1.00      1.00     85443\n",
      "\n"
     ]
    }
   ],
   "source": [
    "grid_search_clf = grid_search_wrapper(refit_score='recall_score')"
   ]
  },
  {
   "cell_type": "markdown",
   "metadata": {},
   "source": [
    "### Precision-Recall Curve\n",
    "Since this is an imbalanced dataset, the best visual form to evaluate the performance is Precision-Recall-Curve.\n",
    "I have produced two plots below\n",
    "A. Visualizaton of relationship between Recall and Precision i.e classic Precision-Recall curve\n",
    "B. Visualization of relationship between Recall/Precision and Decision-Threshold "
   ]
  },
  {
   "cell_type": "code",
   "execution_count": 15,
   "metadata": {},
   "outputs": [],
   "source": [
    "y_scores = model_svc.decision_function(X_s_test)"
   ]
  },
  {
   "cell_type": "code",
   "execution_count": 16,
   "metadata": {
    "collapsed": true
   },
   "outputs": [],
   "source": [
    "p, r, thresholds = precision_recall_curve(y_s_test, y_scores)"
   ]
  },
  {
   "cell_type": "code",
   "execution_count": 17,
   "metadata": {},
   "outputs": [
    {
     "data": {
      "image/png": "[encoded data removed]",
      "text/plain": [
       "<Figure size 432x288 with 1 Axes>"
      ]
     },
     "metadata": {},
     "output_type": "display_data"
    }
   ],
   "source": [
    "close_zero = np.argmin(np.abs(thresholds))\n",
    "plt.plot(p[close_zero], r[close_zero], 'o', markersize=10, label='treshold zero', fillstyle=\"none\", c='k', mew=2)\n",
    "plt.plot(p, r, label='Precision_Recall Curve')\n",
    "plt.xlabel('Precision')\n",
    "plt.ylabel('Recall')\n",
    "plt.show()"
   ]
  },
  {
   "cell_type": "code",
   "execution_count": 22,
   "metadata": {},
   "outputs": [
    {
     "data": {
      "image/png": "[encoded data removed]",
      "text/plain": [
       "<Figure size 432x288 with 1 Axes>"
      ]
     },
     "metadata": {},
     "output_type": "display_data"
    }
   ],
   "source": [
    "from inspect import signature\n",
    "\n",
    "# In matplotlib < 1.5, plt.fill_between does not have a 'step' argument\n",
    "step_kwargs = ({'step': 'post'}\n",
    "               if 'step' in signature(plt.fill_between).parameters\n",
    "               else {})\n",
    "plt.step(r, p, color='b', alpha=0.2,\n",
    "         where='post')\n",
    "plt.fill_between(r, p, alpha=0.2, color='b', **step_kwargs)\n",
    "\n",
    "plt.xlabel('Recall')\n",
    "plt.ylabel('Precision')\n",
    "plt.ylim([0.0, 1.05])\n",
    "plt.xlim([0.0, 1.0])\n",
    "#plt.title('2-class Precision-Recall curve: AP={0:0.2f}'.format(average_precision))\n",
    "plt.show()"
   ]
  },
  {
   "cell_type": "code",
   "execution_count": 74,
   "metadata": {},
   "outputs": [
    {
     "data": {
      "image/png": "[encoded data removed]",
      "text/plain": [
       "<Figure size 576x576 with 1 Axes>"
      ]
     },
     "metadata": {},
     "output_type": "display_data"
    }
   ],
   "source": [
    "plt.figure(figsize=(8, 8))\n",
    "plt.title(\"Precision and Recall Scores as a function of the decision threshold\")\n",
    "plt.plot(thresholds, p[:-1], \"b--\", label=\"Precision\")\n",
    "plt.plot(thresholds, r[:-1], \"g-\", label=\"Recall\")\n",
    "plt.ylabel(\"Score\")\n",
    "plt.xlabel(\"Decision Threshold\")\n",
    "plt.legend(loc='best')\n",
    "plt.show()"
   ]
  },
  {
   "cell_type": "markdown",
   "metadata": {},
   "source": [
    "### Tuning the Threshold \n",
    "Finding best Decision Function "
   ]
  },
  {
   "cell_type": "code",
   "execution_count": 18,
   "metadata": {
    "collapsed": true
   },
   "outputs": [],
   "source": [
    "y_adj_pred = (y_scores >= 0).astype('int')"
   ]
  },
  {
   "cell_type": "code",
   "execution_count": 20,
   "metadata": {},
   "outputs": [
    {
     "name": "stdout",
     "output_type": "stream",
     "text": [
      "Classification Report for Threshold -1 is:               precision    recall  f1-score   support\n",
      "\n",
      "           0       0.73      1.00      0.84     62186\n",
      "           1       0.95      0.01      0.01     23257\n",
      "\n",
      "   micro avg       0.73      0.73      0.73     85443\n",
      "   macro avg       0.84      0.50      0.43     85443\n",
      "weighted avg       0.79      0.73      0.62     85443\n",
      "\n",
      "Classification Report for Threshold -0.5 is:               precision    recall  f1-score   support\n",
      "\n",
      "           0       1.00      1.00      1.00     85269\n",
      "           1       0.82      0.70      0.75       174\n",
      "\n",
      "   micro avg       1.00      1.00      1.00     85443\n",
      "   macro avg       0.91      0.85      0.88     85443\n",
      "weighted avg       1.00      1.00      1.00     85443\n",
      "\n",
      "Classification Report for Threshold 0 is:               precision    recall  f1-score   support\n",
      "\n",
      "           0       1.00      1.00      1.00     85320\n",
      "           1       0.76      0.91      0.83       123\n",
      "\n",
      "   micro avg       1.00      1.00      1.00     85443\n",
      "   macro avg       0.88      0.96      0.91     85443\n",
      "weighted avg       1.00      1.00      1.00     85443\n",
      "\n",
      "Classification Report for Threshold 0.5 is:               precision    recall  f1-score   support\n",
      "\n",
      "           0       1.00      1.00      1.00     85353\n",
      "           1       0.53      0.88      0.66        90\n",
      "\n",
      "   micro avg       1.00      1.00      1.00     85443\n",
      "   macro avg       0.77      0.94      0.83     85443\n",
      "weighted avg       1.00      1.00      1.00     85443\n",
      "\n",
      "Classification Report for Threshold 1 is:               precision    recall  f1-score   support\n",
      "\n",
      "           0       1.00      1.00      1.00     85378\n",
      "           1       0.38      0.86      0.53        65\n",
      "\n",
      "   micro avg       1.00      1.00      1.00     85443\n",
      "   macro avg       0.69      0.93      0.76     85443\n",
      "weighted avg       1.00      1.00      1.00     85443\n",
      "\n"
     ]
    }
   ],
   "source": [
    "thresholds = [-1, -0.5, 0, 0.5, 1]\n",
    "for threshold in thresholds:\n",
    "    y_adj_pred = (y_scores >= threshold).astype('int')\n",
    "    print(\"Classification Report for Threshold {0} is: {1}\".format(threshold, classification_report(y_adj_pred, y_s_test)))"
   ]
  }
 ],
 "metadata": {
  "kernelspec": {
   "display_name": "Python 3",
   "language": "python",
   "name": "python3"
  },
  "language_info": {
   "codemirror_mode": {
    "name": "ipython",
    "version": 3
   },
   "file_extension": ".py",
   "mimetype": "text/x-python",
   "name": "python",
   "nbconvert_exporter": "python",
   "pygments_lexer": "ipython3",
   "version": "3.6.3"
  }
 },
 "nbformat": 4,
 "nbformat_minor": 2
}
